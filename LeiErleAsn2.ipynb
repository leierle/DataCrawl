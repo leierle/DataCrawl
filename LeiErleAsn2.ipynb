{
 "cells": [
  {
   "cell_type": "code",
   "execution_count": 13,
   "metadata": {},
   "outputs": [],
   "source": [
    "#import package needed\n",
    "import sqlite3 as sql\n",
    "import pandas as pd"
   ]
  },
  {
   "cell_type": "code",
   "execution_count": 14,
   "metadata": {},
   "outputs": [],
   "source": [
    "#load the database\n",
    "database = 'dj.db'\n",
    "table = 'dj'\n",
    "connection = sql.Connection(database)\n",
    "cursor = connection.cursor()"
   ]
  },
  {
   "cell_type": "code",
   "execution_count": 18,
   "metadata": {},
   "outputs": [
    {
     "name": "stdout",
     "output_type": "stream",
     "text": [
      "[(1, 'M', \"Macy's Inc\"), (2, 'AXP', 'American Express Company'), (3, 'AAPL', 'Apple Inc.'), (4, 'BA', 'The Boeing Company'), (5, 'CAT', 'Caterpillar Inc.'), (6, 'CVX', 'Chevron Corporation'), (7, 'CSCO', 'Cisco Systems Inc.'), (8, 'KO', 'Coca-Cola Company (The)'), (9, 'DIS', 'The Walt Disney Company'), (10, 'DOW', 'Dow Inc.'), (11, 'XOM', 'Exxon Mobil Corporation'), (12, 'GS', 'Goldman Sachs Group Inc. (The)'), (13, 'HD', 'Home Depot Inc. (The)'), (14, 'IBM', 'International Business Machines Corporation'), (15, 'INTC', 'Intel Corporation'), (16, 'JNJ', 'Johnson & Johnson'), (17, 'JPM', 'JP Morgan Chase & Co.'), (18, 'MCD', \"McDonald's Corporation\"), (19, 'MRK', 'Merck & Company Inc. (new)'), (20, 'MSFT', 'Microsoft Corporation'), (21, 'NKE', 'Nike Inc.'), (22, 'PFE', 'Pfizer Inc.'), (23, 'PG', 'Procter & Gamble Company (The)'), (24, 'TRV', 'The Travelers Companies Inc.'), (25, 'UTX', 'United Technologies Corporation'), (26, 'UNH', 'UnitedHealth Group Incorporated (DE)'), (27, 'VZ', 'Verizon Communications Inc.'), (28, 'V', 'Visa Inc.'), (29, 'WMT', 'Walmart Inc.'), (30, 'WBA', 'Walgreens Boots Alliance Inc.')]\n"
     ]
    },
    {
     "data": {
      "text/html": [
       "<div>\n",
       "<style scoped>\n",
       "    .dataframe tbody tr th:only-of-type {\n",
       "        vertical-align: middle;\n",
       "    }\n",
       "\n",
       "    .dataframe tbody tr th {\n",
       "        vertical-align: top;\n",
       "    }\n",
       "\n",
       "    .dataframe thead th {\n",
       "        text-align: right;\n",
       "    }\n",
       "</style>\n",
       "<table border=\"1\" class=\"dataframe\">\n",
       "  <thead>\n",
       "    <tr style=\"text-align: right;\">\n",
       "      <th></th>\n",
       "      <th>id</th>\n",
       "      <th>name</th>\n",
       "    </tr>\n",
       "    <tr>\n",
       "      <th>ticker</th>\n",
       "      <th></th>\n",
       "      <th></th>\n",
       "    </tr>\n",
       "  </thead>\n",
       "  <tbody>\n",
       "    <tr>\n",
       "      <th>M</th>\n",
       "      <td>1</td>\n",
       "      <td>Macy's Inc</td>\n",
       "    </tr>\n",
       "    <tr>\n",
       "      <th>AXP</th>\n",
       "      <td>2</td>\n",
       "      <td>American Express Company</td>\n",
       "    </tr>\n",
       "    <tr>\n",
       "      <th>AAPL</th>\n",
       "      <td>3</td>\n",
       "      <td>Apple Inc.</td>\n",
       "    </tr>\n",
       "    <tr>\n",
       "      <th>BA</th>\n",
       "      <td>4</td>\n",
       "      <td>The Boeing Company</td>\n",
       "    </tr>\n",
       "    <tr>\n",
       "      <th>CAT</th>\n",
       "      <td>5</td>\n",
       "      <td>Caterpillar Inc.</td>\n",
       "    </tr>\n",
       "    <tr>\n",
       "      <th>CVX</th>\n",
       "      <td>6</td>\n",
       "      <td>Chevron Corporation</td>\n",
       "    </tr>\n",
       "    <tr>\n",
       "      <th>CSCO</th>\n",
       "      <td>7</td>\n",
       "      <td>Cisco Systems Inc.</td>\n",
       "    </tr>\n",
       "    <tr>\n",
       "      <th>KO</th>\n",
       "      <td>8</td>\n",
       "      <td>Coca-Cola Company (The)</td>\n",
       "    </tr>\n",
       "    <tr>\n",
       "      <th>DIS</th>\n",
       "      <td>9</td>\n",
       "      <td>The Walt Disney Company</td>\n",
       "    </tr>\n",
       "    <tr>\n",
       "      <th>DOW</th>\n",
       "      <td>10</td>\n",
       "      <td>Dow Inc.</td>\n",
       "    </tr>\n",
       "    <tr>\n",
       "      <th>XOM</th>\n",
       "      <td>11</td>\n",
       "      <td>Exxon Mobil Corporation</td>\n",
       "    </tr>\n",
       "    <tr>\n",
       "      <th>GS</th>\n",
       "      <td>12</td>\n",
       "      <td>Goldman Sachs Group Inc. (The)</td>\n",
       "    </tr>\n",
       "    <tr>\n",
       "      <th>HD</th>\n",
       "      <td>13</td>\n",
       "      <td>Home Depot Inc. (The)</td>\n",
       "    </tr>\n",
       "    <tr>\n",
       "      <th>IBM</th>\n",
       "      <td>14</td>\n",
       "      <td>International Business Machines Corporation</td>\n",
       "    </tr>\n",
       "    <tr>\n",
       "      <th>INTC</th>\n",
       "      <td>15</td>\n",
       "      <td>Intel Corporation</td>\n",
       "    </tr>\n",
       "    <tr>\n",
       "      <th>JNJ</th>\n",
       "      <td>16</td>\n",
       "      <td>Johnson &amp; Johnson</td>\n",
       "    </tr>\n",
       "    <tr>\n",
       "      <th>JPM</th>\n",
       "      <td>17</td>\n",
       "      <td>JP Morgan Chase &amp; Co.</td>\n",
       "    </tr>\n",
       "    <tr>\n",
       "      <th>MCD</th>\n",
       "      <td>18</td>\n",
       "      <td>McDonald's Corporation</td>\n",
       "    </tr>\n",
       "    <tr>\n",
       "      <th>MRK</th>\n",
       "      <td>19</td>\n",
       "      <td>Merck &amp; Company Inc. (new)</td>\n",
       "    </tr>\n",
       "    <tr>\n",
       "      <th>MSFT</th>\n",
       "      <td>20</td>\n",
       "      <td>Microsoft Corporation</td>\n",
       "    </tr>\n",
       "    <tr>\n",
       "      <th>NKE</th>\n",
       "      <td>21</td>\n",
       "      <td>Nike Inc.</td>\n",
       "    </tr>\n",
       "    <tr>\n",
       "      <th>PFE</th>\n",
       "      <td>22</td>\n",
       "      <td>Pfizer Inc.</td>\n",
       "    </tr>\n",
       "    <tr>\n",
       "      <th>PG</th>\n",
       "      <td>23</td>\n",
       "      <td>Procter &amp; Gamble Company (The)</td>\n",
       "    </tr>\n",
       "    <tr>\n",
       "      <th>TRV</th>\n",
       "      <td>24</td>\n",
       "      <td>The Travelers Companies Inc.</td>\n",
       "    </tr>\n",
       "    <tr>\n",
       "      <th>UTX</th>\n",
       "      <td>25</td>\n",
       "      <td>United Technologies Corporation</td>\n",
       "    </tr>\n",
       "    <tr>\n",
       "      <th>UNH</th>\n",
       "      <td>26</td>\n",
       "      <td>UnitedHealth Group Incorporated (DE)</td>\n",
       "    </tr>\n",
       "    <tr>\n",
       "      <th>VZ</th>\n",
       "      <td>27</td>\n",
       "      <td>Verizon Communications Inc.</td>\n",
       "    </tr>\n",
       "    <tr>\n",
       "      <th>V</th>\n",
       "      <td>28</td>\n",
       "      <td>Visa Inc.</td>\n",
       "    </tr>\n",
       "    <tr>\n",
       "      <th>WMT</th>\n",
       "      <td>29</td>\n",
       "      <td>Walmart Inc.</td>\n",
       "    </tr>\n",
       "    <tr>\n",
       "      <th>WBA</th>\n",
       "      <td>30</td>\n",
       "      <td>Walgreens Boots Alliance Inc.</td>\n",
       "    </tr>\n",
       "  </tbody>\n",
       "</table>\n",
       "</div>"
      ],
      "text/plain": [
       "        id                                         name\n",
       "ticker                                                 \n",
       "M        1                                   Macy's Inc\n",
       "AXP      2                     American Express Company\n",
       "AAPL     3                                   Apple Inc.\n",
       "BA       4                           The Boeing Company\n",
       "CAT      5                             Caterpillar Inc.\n",
       "CVX      6                          Chevron Corporation\n",
       "CSCO     7                           Cisco Systems Inc.\n",
       "KO       8                      Coca-Cola Company (The)\n",
       "DIS      9                      The Walt Disney Company\n",
       "DOW     10                                     Dow Inc.\n",
       "XOM     11                      Exxon Mobil Corporation\n",
       "GS      12               Goldman Sachs Group Inc. (The)\n",
       "HD      13                        Home Depot Inc. (The)\n",
       "IBM     14  International Business Machines Corporation\n",
       "INTC    15                            Intel Corporation\n",
       "JNJ     16                            Johnson & Johnson\n",
       "JPM     17                        JP Morgan Chase & Co.\n",
       "MCD     18                       McDonald's Corporation\n",
       "MRK     19                   Merck & Company Inc. (new)\n",
       "MSFT    20                        Microsoft Corporation\n",
       "NKE     21                                    Nike Inc.\n",
       "PFE     22                                  Pfizer Inc.\n",
       "PG      23               Procter & Gamble Company (The)\n",
       "TRV     24                 The Travelers Companies Inc.\n",
       "UTX     25              United Technologies Corporation\n",
       "UNH     26         UnitedHealth Group Incorporated (DE)\n",
       "VZ      27                  Verizon Communications Inc.\n",
       "V       28                                    Visa Inc.\n",
       "WMT     29                                 Walmart Inc.\n",
       "WBA     30                Walgreens Boots Alliance Inc."
      ]
     },
     "execution_count": 18,
     "metadata": {},
     "output_type": "execute_result"
    }
   ],
   "source": [
    "#PART A\n",
    "#use sql query to fetch the data\n",
    "cursor.execute('SELECT id, ticker, name FROM tickers')\n",
    "rows = cursor.fetchall()\n",
    "print(rows)\n",
    "\n",
    "#place sql results into a dataframe\n",
    "df = pd.DataFrame(rows)\n",
    "df.columns = ['id','ticker','name']\n",
    "df.set_index('ticker', inplace = True)\n",
    "df"
   ]
  },
  {
   "cell_type": "code",
   "execution_count": 21,
   "metadata": {},
   "outputs": [
    {
     "data": {
      "text/plain": [
       "[('2017-01-03', '2017-12-29')]"
      ]
     },
     "execution_count": 21,
     "metadata": {},
     "output_type": "execute_result"
    }
   ],
   "source": [
    "#PART B\n",
    "cursor.execute('SELECT min(date) as first, max(date) as last FROM daily_measures')\n",
    "rows = cursor.fetchall()\n",
    "rows"
   ]
  },
  {
   "cell_type": "code",
   "execution_count": 44,
   "metadata": {},
   "outputs": [
    {
     "data": {
      "text/plain": [
       "closing price    176.42\n",
       "Name: 2017-12-18, dtype: float64"
      ]
     },
     "execution_count": 44,
     "metadata": {},
     "output_type": "execute_result"
    }
   ],
   "source": [
    "#PART C\n",
    "cursor.execute('SELECT date, closing FROM daily_measures WHERE ticker_id=3 ORDER BY date')\n",
    "rows = cursor.fetchall()\n",
    "df = pd.DataFrame(rows)\n",
    "df.columns = ['date','closing price']\n",
    "df.set_index('date' , inplace = True)\n",
    "df.loc[df['closing price'].idxmax()]"
   ]
  },
  {
   "cell_type": "code",
   "execution_count": 49,
   "metadata": {},
   "outputs": [
    {
     "data": {
      "text/plain": [
       "closing price        127.159749\n",
       "pct_change_oneDay      0.060981\n",
       "Name: 2017-02-01, dtype: float64"
      ]
     },
     "execution_count": 49,
     "metadata": {},
     "output_type": "execute_result"
    }
   ],
   "source": [
    "#PART D\n",
    "df['pct_change_oneDay'] = df['closing price'].pct_change()\n",
    "df.loc[df['pct_change_oneDay'].idxmax()]"
   ]
  }
 ],
 "metadata": {
  "kernelspec": {
   "display_name": "Python 3",
   "language": "python",
   "name": "python3"
  },
  "language_info": {
   "codemirror_mode": {
    "name": "ipython",
    "version": 3
   },
   "file_extension": ".py",
   "mimetype": "text/x-python",
   "name": "python",
   "nbconvert_exporter": "python",
   "pygments_lexer": "ipython3",
   "version": "3.7.3"
  }
 },
 "nbformat": 4,
 "nbformat_minor": 2
}
